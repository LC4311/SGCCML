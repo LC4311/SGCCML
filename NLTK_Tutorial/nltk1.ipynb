{
 "cells": [
  {
   "cell_type": "code",
   "execution_count": 57,
   "metadata": {},
   "outputs": [],
   "source": [
    "import nltk\n",
    "\n",
    "%matplotlib inline"
   ]
  },
  {
   "cell_type": "code",
   "execution_count": 2,
   "metadata": {},
   "outputs": [
    {
     "name": "stdout",
     "output_type": "stream",
     "text": [
      "showing info https://raw.githubusercontent.com/nltk/nltk_data/gh-pages/index.xml\n"
     ]
    },
    {
     "data": {
      "text/plain": [
       "True"
      ]
     },
     "execution_count": 2,
     "metadata": {},
     "output_type": "execute_result"
    }
   ],
   "source": [
    "nltk.download()"
   ]
  },
  {
   "cell_type": "code",
   "execution_count": 39,
   "metadata": {},
   "outputs": [],
   "source": [
    "from nltk.book import *"
   ]
  },
  {
   "cell_type": "code",
   "execution_count": 40,
   "metadata": {},
   "outputs": [
    {
     "data": {
      "text/plain": [
       "FreqDist({',': 18713, 'the': 13721, '.': 6862, 'of': 6536, 'and': 6024, 'a': 4569, 'to': 4542, ';': 4072, 'in': 3916, 'that': 2982, ...})"
      ]
     },
     "execution_count": 40,
     "metadata": {},
     "output_type": "execute_result"
    }
   ],
   "source": [
    "text1.vocab()"
   ]
  },
  {
   "cell_type": "code",
   "execution_count": 41,
   "metadata": {},
   "outputs": [],
   "source": [
    "from nltk.corpus import stopwords"
   ]
  },
  {
   "cell_type": "code",
   "execution_count": 44,
   "metadata": {},
   "outputs": [],
   "source": [
    "lowertext1 = Text([w.lower() for w in text1])"
   ]
  },
  {
   "cell_type": "code",
   "execution_count": 45,
   "metadata": {},
   "outputs": [],
   "source": [
    "filteredtext1 = [w for w in lowertext1 if w not in nltk.corpus.stopwords.words('english')]"
   ]
  },
  {
   "cell_type": "code",
   "execution_count": 47,
   "metadata": {},
   "outputs": [],
   "source": [
    "filteredtext1 = Text(filteredtext1)"
   ]
  },
  {
   "cell_type": "code",
   "execution_count": 50,
   "metadata": {},
   "outputs": [
    {
     "data": {
      "text/plain": [
       "FreqDist({',': 18713, '.': 6862, ';': 4072, \"'\": 2684, '-': 2552, '\"': 1478, '!': 1269, 'whale': 1226, '--': 1070, 'one': 921, ...})"
      ]
     },
     "execution_count": 50,
     "metadata": {},
     "output_type": "execute_result"
    }
   ],
   "source": [
    "filteredtext1.vocab()"
   ]
  },
  {
   "cell_type": "code",
   "execution_count": 51,
   "metadata": {},
   "outputs": [],
   "source": [
    "punctuation = [\",\",\".\",\":\",\";\",\"'\",\"-\",\"!\",'\"',\"--\",\".\"]"
   ]
  },
  {
   "cell_type": "code",
   "execution_count": 53,
   "metadata": {},
   "outputs": [],
   "source": [
    "filteredtext1 = Text([w for w in filteredtext1 if w not in punctuation]) "
   ]
  },
  {
   "cell_type": "code",
   "execution_count": 62,
   "metadata": {},
   "outputs": [],
   "source": [
    "FT1Dict = filteredtext1.vocab()"
   ]
  },
  {
   "cell_type": "code",
   "execution_count": 66,
   "metadata": {},
   "outputs": [
    {
     "data": {
      "text/plain": [
       "<bound method FreqDist.freq of FreqDist({'whale': 1226, 'one': 921, 'like': 647, '?': 637, 'upon': 566, 'man': 527, 'ship': 518, 'ahab': 511, '.\"': 489, 'ye': 472, ...})>"
      ]
     },
     "execution_count": 66,
     "metadata": {},
     "output_type": "execute_result"
    }
   ],
   "source": [
    "FT1Dict.freq"
   ]
  },
  {
   "cell_type": "code",
   "execution_count": 68,
   "metadata": {},
   "outputs": [
    {
     "name": "stdout",
     "output_type": "stream",
     "text": [
      "Displaying 25 of 25 matches:\n",
      "s , and to teach them by what name a whale - fish is to be called in our tongue\n",
      "t which is not true .\" -- HACKLUYT \" WHALE . ... Sw . and Dan . HVAL . This ani\n",
      "ulted .\" -- WEBSTER ' S DICTIONARY \" WHALE . ... It is more immediately from th\n",
      "ISH . WAL , DUTCH . HWAL , SWEDISH . WHALE , ICELANDIC . WHALE , ENGLISH . BALE\n",
      "HWAL , SWEDISH . WHALE , ICELANDIC . WHALE , ENGLISH . BALEINE , FRENCH . BALLE\n",
      "least , take the higgledy - piggledy whale statements , however authentic , in \n",
      " dreadful gulf of this monster ' s ( whale ' s ) mouth , are immediately lost a\n",
      " patient Job .\" -- RABELAIS . \" This whale ' s liver was two cartloads .\" -- ST\n",
      " Touching that monstrous bulk of the whale or ork we have received nothing cert\n",
      " of oil will be extracted out of one whale .\" -- IBID . \" HISTORY OF LIFE AND D\n",
      "ise .\" -- KING HENRY . \" Very like a whale .\" -- HAMLET . \" Which to secure , n\n",
      "restless paine , Like as the wounded whale to shore flies thro ' the maine .\" -\n",
      ". OF SPERMA CETI AND THE SPERMA CETI WHALE . VIDE HIS V . E . \" Like Spencer ' \n",
      "t had been a sprat in the mouth of a whale .\" -- PILGRIM ' S PROGRESS . \" That \n",
      "EN ' S ANNUS MIRABILIS . \" While the whale is floating at the stern of the ship\n",
      "e ship called The Jonas - in - the - Whale . ... Some say the whale can ' t ope\n",
      " in - the - Whale . ... Some say the whale can ' t open his mouth , but that is\n",
      " masts to see whether they can see a whale , for the first discoverer has a duc\n",
      " for his pains . ... I was told of a whale taken near Shetland , that had above\n",
      "oneers told me that he caught once a whale in Spitzbergen that was white all ov\n",
      "2 , one eighty feet in length of the whale - bone kind came in , which ( as I w\n",
      "n master and kill this Sperma - ceti whale , for I could never hear of any of t\n",
      " . 1729 . \"... and the breath of the whale is frequendy attended with such an i\n",
      "ed with hoops and armed with ribs of whale .\" -- RAPE OF THE LOCK . \" If we com\n",
      "contemptible in the comparison . The whale is doubtless the largest animal in c\n"
     ]
    }
   ],
   "source": [
    "text1.concordance(\"whale\")"
   ]
  },
  {
   "cell_type": "code",
   "execution_count": 70,
   "metadata": {},
   "outputs": [
    {
     "name": "stdout",
     "output_type": "stream",
     "text": [
      "ship boat sea time captain world man deck pequod other whales air\n",
      "water head crew line thing side way body\n"
     ]
    }
   ],
   "source": [
    "text1.similar(\"whale\")"
   ]
  },
  {
   "cell_type": "code",
   "execution_count": 71,
   "metadata": {},
   "outputs": [
    {
     "name": "stdout",
     "output_type": "stream",
     "text": [
      "No matches\n"
     ]
    }
   ],
   "source": [
    "text2.similar(\"whale\")"
   ]
  },
  {
   "cell_type": "code",
   "execution_count": 72,
   "metadata": {},
   "outputs": [
    {
     "name": "stdout",
     "output_type": "stream",
     "text": [
      "Displaying 11 of 11 matches:\n",
      "ong the former , one was of a most monstrous size . ... This came towards us , \n",
      "ON OF THE PSALMS . \" Touching that monstrous bulk of the whale or ork we have r\n",
      "ll over with a heathenish array of monstrous clubs and spears . Some were thick\n",
      "d as you gazed , and wondered what monstrous cannibal and savage could ever hav\n",
      "that has survived the flood ; most monstrous and most mountainous ! That Himmal\n",
      "they might scout at Moby Dick as a monstrous fable , or still worse and more de\n",
      "th of Radney .'\" CHAPTER 55 Of the Monstrous Pictures of Whales . I shall ere l\n",
      "ing Scenes . In connexion with the monstrous pictures of whales , I am strongly\n",
      "ere to enter upon those still more monstrous stories of them which are to be fo\n",
      "ght have been rummaged out of this monstrous cabinet there is no telling . But \n",
      "of Whale - Bones ; for Whales of a monstrous size are oftentimes cast up dead u\n"
     ]
    }
   ],
   "source": [
    "text1.concordance(\"monstrous\")"
   ]
  },
  {
   "cell_type": "code",
   "execution_count": 73,
   "metadata": {},
   "outputs": [
    {
     "name": "stdout",
     "output_type": "stream",
     "text": [
      "true contemptible christian abundant few part mean careful puzzled\n",
      "mystifying passing curious loving wise doleful gamesome singular\n",
      "delightfully perilous fearless\n"
     ]
    }
   ],
   "source": [
    "text1.similar(\"monstrous\")"
   ]
  },
  {
   "cell_type": "code",
   "execution_count": 76,
   "metadata": {},
   "outputs": [
    {
     "name": "stdout",
     "output_type": "stream",
     "text": [
      "most_and\n"
     ]
    }
   ],
   "source": [
    "text1.common_contexts([\"monstrous\",\"fearless\"])"
   ]
  },
  {
   "cell_type": "code",
   "execution_count": 79,
   "metadata": {},
   "outputs": [
    {
     "name": "stdout",
     "output_type": "stream",
     "text": [
      "bedevere are if soldier it is in seek then no see did thank robin\n",
      "launcelot king of will your a\n"
     ]
    }
   ],
   "source": [
    "text6.similar(\"ARTHUR\")"
   ]
  },
  {
   "cell_type": "code",
   "execution_count": 83,
   "metadata": {},
   "outputs": [],
   "source": [
    "string = '''\n",
    "blah blah blah blah blah blah blah blah blah blah blah blah\n",
    "blah blah blah blah blah blah blah blah blah blah blah blah\n",
    "blah blah blah blah blah blah blah blah blah blah blah blah\n",
    "blah blah blah blah blah blah blah blah blah blah blah blah\n",
    "blahs blahs blah blah blah blah blah blah blah blah blah blah\n",
    "blah blah blahs blah blah blah blah blah blah blah blah blah\n",
    "blah blah blahs blahs blahs blah blah blah blah blah blah blah\n",
    "\n",
    "'''\n",
    "\n"
   ]
  },
  {
   "cell_type": "code",
   "execution_count": 84,
   "metadata": {},
   "outputs": [],
   "source": [
    "tokens = nltk.tokenize.word_tokenize(string)"
   ]
  },
  {
   "cell_type": "code",
   "execution_count": 85,
   "metadata": {},
   "outputs": [
    {
     "data": {
      "text/plain": [
       "['blah',\n",
       " 'blah',\n",
       " 'blah',\n",
       " 'blah',\n",
       " 'blah',\n",
       " 'blah',\n",
       " 'blah',\n",
       " 'blah',\n",
       " 'blah',\n",
       " 'blah',\n",
       " 'blah',\n",
       " 'blah',\n",
       " 'blah',\n",
       " 'blah',\n",
       " 'blah',\n",
       " 'blah',\n",
       " 'blah',\n",
       " 'blah',\n",
       " 'blah',\n",
       " 'blah',\n",
       " 'blah',\n",
       " 'blah',\n",
       " 'blah',\n",
       " 'blah',\n",
       " 'blah',\n",
       " 'blah',\n",
       " 'blah',\n",
       " 'blah',\n",
       " 'blah',\n",
       " 'blah',\n",
       " 'blah',\n",
       " 'blah',\n",
       " 'blah',\n",
       " 'blah',\n",
       " 'blah',\n",
       " 'blah',\n",
       " 'blah',\n",
       " 'blah',\n",
       " 'blah',\n",
       " 'blah',\n",
       " 'blah',\n",
       " 'blah',\n",
       " 'blah',\n",
       " 'blah',\n",
       " 'blah',\n",
       " 'blah',\n",
       " 'blah',\n",
       " 'blah',\n",
       " 'blahs',\n",
       " 'blahs',\n",
       " 'blah',\n",
       " 'blah',\n",
       " 'blah',\n",
       " 'blah',\n",
       " 'blah',\n",
       " 'blah',\n",
       " 'blah',\n",
       " 'blah',\n",
       " 'blah',\n",
       " 'blah',\n",
       " 'blah',\n",
       " 'blah',\n",
       " 'blahs',\n",
       " 'blah',\n",
       " 'blah',\n",
       " 'blah',\n",
       " 'blah',\n",
       " 'blah',\n",
       " 'blah',\n",
       " 'blah',\n",
       " 'blah',\n",
       " 'blah',\n",
       " 'blah',\n",
       " 'blah',\n",
       " 'blahs',\n",
       " 'blahs',\n",
       " 'blahs',\n",
       " 'blah',\n",
       " 'blah',\n",
       " 'blah',\n",
       " 'blah',\n",
       " 'blah',\n",
       " 'blah',\n",
       " 'blah']"
      ]
     },
     "execution_count": 85,
     "metadata": {},
     "output_type": "execute_result"
    }
   ],
   "source": [
    "tokens"
   ]
  },
  {
   "cell_type": "code",
   "execution_count": 93,
   "metadata": {},
   "outputs": [],
   "source": [
    "stemmer = nltk.porter.PorterStemmer()\n",
    "stemmed = [stemmer.stem(w) for w in tokens]\n"
   ]
  },
  {
   "cell_type": "code",
   "execution_count": 94,
   "metadata": {},
   "outputs": [
    {
     "data": {
      "text/plain": [
       "['blah',\n",
       " 'blah',\n",
       " 'blah',\n",
       " 'blah',\n",
       " 'blah',\n",
       " 'blah',\n",
       " 'blah',\n",
       " 'blah',\n",
       " 'blah',\n",
       " 'blah',\n",
       " 'blah',\n",
       " 'blah',\n",
       " 'blah',\n",
       " 'blah',\n",
       " 'blah',\n",
       " 'blah',\n",
       " 'blah',\n",
       " 'blah',\n",
       " 'blah',\n",
       " 'blah',\n",
       " 'blah',\n",
       " 'blah',\n",
       " 'blah',\n",
       " 'blah',\n",
       " 'blah',\n",
       " 'blah',\n",
       " 'blah',\n",
       " 'blah',\n",
       " 'blah',\n",
       " 'blah',\n",
       " 'blah',\n",
       " 'blah',\n",
       " 'blah',\n",
       " 'blah',\n",
       " 'blah',\n",
       " 'blah',\n",
       " 'blah',\n",
       " 'blah',\n",
       " 'blah',\n",
       " 'blah',\n",
       " 'blah',\n",
       " 'blah',\n",
       " 'blah',\n",
       " 'blah',\n",
       " 'blah',\n",
       " 'blah',\n",
       " 'blah',\n",
       " 'blah',\n",
       " 'blah',\n",
       " 'blah',\n",
       " 'blah',\n",
       " 'blah',\n",
       " 'blah',\n",
       " 'blah',\n",
       " 'blah',\n",
       " 'blah',\n",
       " 'blah',\n",
       " 'blah',\n",
       " 'blah',\n",
       " 'blah',\n",
       " 'blah',\n",
       " 'blah',\n",
       " 'blah',\n",
       " 'blah',\n",
       " 'blah',\n",
       " 'blah',\n",
       " 'blah',\n",
       " 'blah',\n",
       " 'blah',\n",
       " 'blah',\n",
       " 'blah',\n",
       " 'blah',\n",
       " 'blah',\n",
       " 'blah',\n",
       " 'blah',\n",
       " 'blah',\n",
       " 'blah',\n",
       " 'blah',\n",
       " 'blah',\n",
       " 'blah',\n",
       " 'blah',\n",
       " 'blah',\n",
       " 'blah',\n",
       " 'blah']"
      ]
     },
     "execution_count": 94,
     "metadata": {},
     "output_type": "execute_result"
    }
   ],
   "source": [
    "stemmed"
   ]
  },
  {
   "cell_type": "code",
   "execution_count": 108,
   "metadata": {},
   "outputs": [],
   "source": [
    "sentence1 = \"How can I get rich fast!\"\n",
    "sentence2 = \"What is the best way of getting rich fast?\"\n",
    "sentencelist1 = sentence1.split(\" \")\n",
    "sentencelist2 = sentence2.split(\" \")"
   ]
  },
  {
   "cell_type": "code",
   "execution_count": 116,
   "metadata": {},
   "outputs": [],
   "source": [
    "sl1 = nltk.tokenize.word_tokenize(sentence1)\n",
    "sl2 = nltk.tokenize.word_tokenize(sentence2)"
   ]
  },
  {
   "cell_type": "code",
   "execution_count": 117,
   "metadata": {},
   "outputs": [
    {
     "data": {
      "text/plain": [
       "['How', 'can', 'I', 'get', 'rich', 'fast', '!']"
      ]
     },
     "execution_count": 117,
     "metadata": {},
     "output_type": "execute_result"
    }
   ],
   "source": [
    "sl1"
   ]
  },
  {
   "cell_type": "code",
   "execution_count": 118,
   "metadata": {},
   "outputs": [
    {
     "data": {
      "text/plain": [
       "['What', 'is', 'the', 'best', 'way', 'of', 'getting', 'rich', 'fast', '?']"
      ]
     },
     "execution_count": 118,
     "metadata": {},
     "output_type": "execute_result"
    }
   ],
   "source": [
    "sl2"
   ]
  },
  {
   "cell_type": "code",
   "execution_count": 119,
   "metadata": {},
   "outputs": [],
   "source": [
    "stemmer = nltk.porter.PorterStemmer()"
   ]
  },
  {
   "cell_type": "code",
   "execution_count": 120,
   "metadata": {},
   "outputs": [],
   "source": [
    "sl1_stemmed = [stemmer.stem(w) for w in sl1]"
   ]
  },
  {
   "cell_type": "code",
   "execution_count": 121,
   "metadata": {},
   "outputs": [],
   "source": [
    "sl2_stemmed = [stemmer.stem(w) for w in sl2]"
   ]
  },
  {
   "cell_type": "code",
   "execution_count": 125,
   "metadata": {},
   "outputs": [
    {
     "data": {
      "text/plain": [
       "['how', 'can', 'I', 'get', 'rich', 'fast', '!']"
      ]
     },
     "execution_count": 125,
     "metadata": {},
     "output_type": "execute_result"
    }
   ],
   "source": [
    "sl1_stemmed"
   ]
  },
  {
   "cell_type": "code",
   "execution_count": 126,
   "metadata": {},
   "outputs": [
    {
     "data": {
      "text/plain": [
       "['what', 'is', 'the', 'best', 'way', 'of', 'get', 'rich', 'fast', '?']"
      ]
     },
     "execution_count": 126,
     "metadata": {},
     "output_type": "execute_result"
    }
   ],
   "source": [
    "sl2_stemmed"
   ]
  },
  {
   "cell_type": "code",
   "execution_count": null,
   "metadata": {},
   "outputs": [],
   "source": []
  },
  {
   "cell_type": "code",
   "execution_count": 128,
   "metadata": {},
   "outputs": [
    {
     "data": {
      "text/plain": [
       "<module 'nltk.translate.metrics' from '/usr/local/lib/python3.6/site-packages/nltk/translate/metrics.py'>"
      ]
     },
     "execution_count": 128,
     "metadata": {},
     "output_type": "execute_result"
    }
   ],
   "source": [
    "nltk.metrics"
   ]
  },
  {
   "cell_type": "code",
   "execution_count": null,
   "metadata": {},
   "outputs": [],
   "source": []
  }
 ],
 "metadata": {
  "kernelspec": {
   "display_name": "Python 3",
   "language": "python",
   "name": "python3"
  },
  "language_info": {
   "codemirror_mode": {
    "name": "ipython",
    "version": 3
   },
   "file_extension": ".py",
   "mimetype": "text/x-python",
   "name": "python",
   "nbconvert_exporter": "python",
   "pygments_lexer": "ipython3",
   "version": "3.6.5"
  }
 },
 "nbformat": 4,
 "nbformat_minor": 2
}
