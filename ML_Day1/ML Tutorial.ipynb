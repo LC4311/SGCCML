{
 "cells": [
  {
   "cell_type": "code",
   "execution_count": 92,
   "metadata": {},
   "outputs": [],
   "source": [
    "import numpy as np\n",
    "import pandas as pd\n",
    "import matplotlib.pyplot as plt\n",
    "import sklearn\n",
    "import seaborn as sns\n",
    "\n",
    "%matplotlib inline\n"
   ]
  },
  {
   "cell_type": "markdown",
   "metadata": {},
   "source": [
    "# Primer on Stats and Numpy"
   ]
  },
  {
   "cell_type": "markdown",
   "metadata": {},
   "source": [
    "## 1. Random Numbers and Vectors"
   ]
  },
  {
   "cell_type": "markdown",
   "metadata": {},
   "source": [
    "Using `arange` to create a range:"
   ]
  },
  {
   "cell_type": "code",
   "execution_count": 19,
   "metadata": {},
   "outputs": [
    {
     "name": "stdout",
     "output_type": "stream",
     "text": [
      "[1 2 3 4 5 6 7 8 9]\n"
     ]
    }
   ],
   "source": [
    "arr = np.arange(1,10)\n",
    "print(arr)"
   ]
  },
  {
   "cell_type": "markdown",
   "metadata": {},
   "source": [
    "Then turn it into a matrix:\n"
   ]
  },
  {
   "cell_type": "code",
   "execution_count": 20,
   "metadata": {},
   "outputs": [
    {
     "name": "stdout",
     "output_type": "stream",
     "text": [
      "[[1 2 3]\n",
      " [4 5 6]\n",
      " [7 8 9]]\n"
     ]
    }
   ],
   "source": [
    "mat = arr.reshape(3,3)\n",
    "print(mat)"
   ]
  },
  {
   "cell_type": "markdown",
   "metadata": {},
   "source": [
    "Create an array of uniformly distributed random variables:"
   ]
  },
  {
   "cell_type": "code",
   "execution_count": 21,
   "metadata": {},
   "outputs": [
    {
     "name": "stdout",
     "output_type": "stream",
     "text": [
      "[0.3266449  0.5270581  0.8859421  0.35726976 0.90853515 0.62336012\n",
      " 0.01582124 0.92943723 0.69089692 0.99732285 0.17234051 0.13713575\n",
      " 0.93259546 0.69681816 0.06600017 0.75546305 0.75387619 0.92302454\n",
      " 0.71152476 0.12427096 0.01988013 0.02621099 0.02830649 0.24621107\n",
      " 0.86002795 0.53883106 0.55282198 0.84203089 0.12417332 0.27918368\n",
      " 0.58575927 0.96959575 0.56103022 0.01864729 0.80063267 0.23297427\n",
      " 0.8071052  0.38786064 0.86354185 0.74712164 0.55624023 0.13645523\n",
      " 0.05991769 0.12134346 0.04455188 0.10749413 0.22570934 0.71298898\n",
      " 0.55971698 0.01255598 0.07197428 0.96727633 0.56810046 0.20329323\n",
      " 0.25232574 0.74382585 0.19542948 0.58135893 0.97001999 0.8468288\n",
      " 0.23984776 0.49376971 0.61995572 0.8289809  0.15679139 0.0185762\n",
      " 0.07002214 0.48634511 0.60632946 0.56885144 0.31736241 0.98861615\n",
      " 0.57974522 0.38014117 0.55094822 0.74533443 0.66923289 0.26491956\n",
      " 0.06633483 0.3700842  0.62971751 0.21017401 0.75275555 0.06653648\n",
      " 0.2603151  0.80475456 0.19343428 0.63946088 0.52467031 0.92480797\n",
      " 0.26329677 0.06596109 0.73506596 0.77217803 0.90781585 0.93197207\n",
      " 0.01395157 0.23436209 0.61677836 0.94901632]\n"
     ]
    }
   ],
   "source": [
    "randlist = np.random.random(100)\n",
    "print(randlist)"
   ]
  },
  {
   "cell_type": "markdown",
   "metadata": {},
   "source": [
    "You can then multiply the list by a scale parameter and add a shift parameter to give the following random vector:"
   ]
  },
  {
   "cell_type": "code",
   "execution_count": 22,
   "metadata": {},
   "outputs": [
    {
     "name": "stdout",
     "output_type": "stream",
     "text": [
      "[13.26644902 15.27058102 18.85942099 13.5726976  19.08535151 16.23360116\n",
      " 10.15821243 19.29437234 16.90896918 19.9732285  11.72340508 11.3713575\n",
      " 19.32595463 16.96818161 10.66000173 17.55463053 17.53876188 19.23024536\n",
      " 17.11524759 11.24270962 10.19880134 10.26210987 10.28306488 12.46211068\n",
      " 18.60027949 15.38831064 15.52821979 18.42030892 11.24173315 12.79183679\n",
      " 15.85759271 19.69595748 15.61030219 10.18647289 18.00632673 12.32974274\n",
      " 18.07105196 13.87860644 18.63541855 17.47121643 15.56240234 11.36455226\n",
      " 10.5991769  11.21343456 10.44551879 11.07494129 12.25709339 17.1298898\n",
      " 15.59716982 10.1255598  10.7197428  19.6727633  15.68100462 12.03293235\n",
      " 12.52325745 17.43825854 11.95429481 15.81358927 19.70019989 18.46828801\n",
      " 12.39847759 14.93769714 16.19955718 18.289809   11.56791395 10.18576202\n",
      " 10.70022144 14.86345111 16.06329462 15.68851437 13.17362409 19.88616154\n",
      " 15.79745219 13.80141173 15.50948219 17.45334431 16.69232893 12.64919558\n",
      " 10.66334834 13.70084198 16.29717507 12.1017401  17.52755554 10.66536481\n",
      " 12.60315099 18.04754564 11.93434283 16.39460881 15.24670309 19.2480797\n",
      " 12.6329677  10.65961091 17.35065963 17.7217803  19.07815853 19.31972069\n",
      " 10.13951573 12.34362086 16.16778357 19.49016321]\n"
     ]
    }
   ],
   "source": [
    "randlist = randlist * 10 + 10\n",
    "print(randlist)"
   ]
  },
  {
   "cell_type": "markdown",
   "metadata": {},
   "source": [
    "Which is an array of random `(float)` numbers from 10 to 20 distributed uniformly in between."
   ]
  },
  {
   "cell_type": "markdown",
   "metadata": {},
   "source": [
    "When you are dealing with a random number generator (rng), it is often helpful to set the seed so that you can reproduce your result."
   ]
  },
  {
   "cell_type": "code",
   "execution_count": 84,
   "metadata": {},
   "outputs": [
    {
     "name": "stdout",
     "output_type": "stream",
     "text": [
      "[0. 0. 0. 0. 0. 0. 0. 0. 0. 0. 0. 0. 0. 0. 0. 0. 0. 0. 0. 0. 0. 0. 0. 0.\n",
      " 0. 0. 0. 0. 0. 0. 0. 0. 0. 0. 0. 0. 0. 0. 0. 0. 0. 0. 0. 0. 0. 0. 0. 0.\n",
      " 0. 0. 0. 0. 0. 0. 0. 0. 0. 0. 0. 0. 0. 0. 0. 0. 0. 0. 0. 0. 0. 0. 0. 0.\n",
      " 0. 0. 0. 0. 0. 0. 0. 0. 0. 0. 0. 0. 0. 0. 0. 0. 0. 0. 0. 0. 0. 0. 0. 0.\n",
      " 0. 0. 0. 0.]\n"
     ]
    }
   ],
   "source": [
    "np.random.seed(1)\n",
    "randlist1 =  np.random.random(100) * 10 + 10\n",
    "np.random.seed(1)\n",
    "randlist2 =  np.random.random(100) * 10 + 10\n",
    "print(randlist1-randlist2)"
   ]
  },
  {
   "cell_type": "markdown",
   "metadata": {},
   "source": [
    "## 2. Matrices"
   ]
  },
  {
   "cell_type": "markdown",
   "metadata": {},
   "source": [
    "To create a matrix, use `np.matrix`:"
   ]
  },
  {
   "cell_type": "code",
   "execution_count": 29,
   "metadata": {},
   "outputs": [
    {
     "name": "stdout",
     "output_type": "stream",
     "text": [
      "[[1 2 3]\n",
      " [4 5 6]\n",
      " [6 7 8]]\n"
     ]
    }
   ],
   "source": [
    "mat1 = np.matrix([[1,2,3],[4,5,6],[6,7,8]])\n",
    "print(mat1)"
   ]
  },
  {
   "cell_type": "markdown",
   "metadata": {},
   "source": [
    "All matrix objects have `.I` **attribute**, which calculates the inverse (if it exists):"
   ]
  },
  {
   "cell_type": "code",
   "execution_count": 33,
   "metadata": {},
   "outputs": [
    {
     "name": "stdout",
     "output_type": "stream",
     "text": [
      "[[ 1.7156570e+15 -4.2891425e+15  2.5734855e+15]\n",
      " [-3.4313140e+15  8.5782850e+15 -5.1469710e+15]\n",
      " [ 1.7156570e+15 -4.2891425e+15  2.5734855e+15]]\n"
     ]
    }
   ],
   "source": [
    "print(mat1.I)"
   ]
  },
  {
   "cell_type": "markdown",
   "metadata": {},
   "source": [
    "You can also view the `.T` **attribute**:"
   ]
  },
  {
   "cell_type": "code",
   "execution_count": 34,
   "metadata": {},
   "outputs": [
    {
     "name": "stdout",
     "output_type": "stream",
     "text": [
      "[[1 4 6]\n",
      " [2 5 7]\n",
      " [3 6 8]]\n"
     ]
    }
   ],
   "source": [
    "print(mat1.T)"
   ]
  },
  {
   "cell_type": "markdown",
   "metadata": {},
   "source": [
    "The `*` operator carries out matrix multiplication instead of multiplying it element-wise:"
   ]
  },
  {
   "cell_type": "code",
   "execution_count": 37,
   "metadata": {},
   "outputs": [
    {
     "data": {
      "text/plain": [
       "matrix([[ 78,  84,  90],\n",
       "        [186, 201, 216],\n",
       "        [258, 279, 300]])"
      ]
     },
     "execution_count": 37,
     "metadata": {},
     "output_type": "execute_result"
    }
   ],
   "source": [
    "mat2 = np.matrix([[9,10,11],[12,13,14],[15,16,17]])\n",
    "mat1*mat2"
   ]
  },
  {
   "cell_type": "markdown",
   "metadata": {},
   "source": [
    "NumPy has built in functions to create commonly used matrices:"
   ]
  },
  {
   "cell_type": "code",
   "execution_count": 106,
   "metadata": {},
   "outputs": [
    {
     "data": {
      "text/plain": [
       "array([[1., 0., 0., 0., 0., 0., 0., 0., 0., 0.],\n",
       "       [0., 1., 0., 0., 0., 0., 0., 0., 0., 0.],\n",
       "       [0., 0., 1., 0., 0., 0., 0., 0., 0., 0.],\n",
       "       [0., 0., 0., 1., 0., 0., 0., 0., 0., 0.],\n",
       "       [0., 0., 0., 0., 1., 0., 0., 0., 0., 0.],\n",
       "       [0., 0., 0., 0., 0., 1., 0., 0., 0., 0.],\n",
       "       [0., 0., 0., 0., 0., 0., 1., 0., 0., 0.],\n",
       "       [0., 0., 0., 0., 0., 0., 0., 1., 0., 0.],\n",
       "       [0., 0., 0., 0., 0., 0., 0., 0., 1., 0.],\n",
       "       [0., 0., 0., 0., 0., 0., 0., 0., 0., 1.]])"
      ]
     },
     "execution_count": 106,
     "metadata": {},
     "output_type": "execute_result"
    }
   ],
   "source": [
    "#Identity Matrix\n",
    "\n",
    "np.eye(10)"
   ]
  },
  {
   "cell_type": "code",
   "execution_count": 107,
   "metadata": {},
   "outputs": [
    {
     "data": {
      "text/plain": [
       "array([[1., 1., 1.],\n",
       "       [1., 1., 1.],\n",
       "       [1., 1., 1.]])"
      ]
     },
     "execution_count": 107,
     "metadata": {},
     "output_type": "execute_result"
    }
   ],
   "source": [
    "#Matrix of Ones\n",
    "\n",
    "np.ones((3,3))\n",
    "\n"
   ]
  },
  {
   "cell_type": "code",
   "execution_count": 108,
   "metadata": {},
   "outputs": [
    {
     "data": {
      "text/plain": [
       "array([[1., 1., 1.],\n",
       "       [1., 1., 1.]])"
      ]
     },
     "execution_count": 108,
     "metadata": {},
     "output_type": "execute_result"
    }
   ],
   "source": [
    "np.ones((2,3))\n"
   ]
  },
  {
   "cell_type": "code",
   "execution_count": 109,
   "metadata": {},
   "outputs": [
    {
     "data": {
      "text/plain": [
       "array([[1., 1.],\n",
       "       [1., 1.],\n",
       "       [1., 1.]])"
      ]
     },
     "execution_count": 109,
     "metadata": {},
     "output_type": "execute_result"
    }
   ],
   "source": [
    "np.ones((3,2))"
   ]
  },
  {
   "cell_type": "markdown",
   "metadata": {},
   "source": [
    "## 3. Summary Statistics"
   ]
  },
  {
   "cell_type": "markdown",
   "metadata": {},
   "source": [
    "First, let's start off with a seed for our rng:"
   ]
  },
  {
   "cell_type": "code",
   "execution_count": 62,
   "metadata": {},
   "outputs": [],
   "source": [
    "rng = np.random.RandomState(7)"
   ]
  },
  {
   "cell_type": "markdown",
   "metadata": {},
   "source": [
    "Then let's create a vector of 10000 observations from a normal distribution with mean = 10 and standard deviation = 5."
   ]
  },
  {
   "cell_type": "code",
   "execution_count": 63,
   "metadata": {},
   "outputs": [],
   "source": [
    "P = rng.normal(10,5,10000)"
   ]
  },
  {
   "cell_type": "markdown",
   "metadata": {},
   "source": [
    "Let's view the first 10 elements of P:"
   ]
  },
  {
   "cell_type": "code",
   "execution_count": 64,
   "metadata": {},
   "outputs": [
    {
     "data": {
      "text/plain": [
       "array([18.45262852,  7.67031315, 10.16410082, 12.03758141,  6.05538486,\n",
       "       10.01032786,  9.99554807,  1.22637847, 15.08829003, 13.00249258])"
      ]
     },
     "execution_count": 64,
     "metadata": {},
     "output_type": "execute_result"
    }
   ],
   "source": [
    "P[:10]"
   ]
  },
  {
   "cell_type": "markdown",
   "metadata": {},
   "source": [
    "Let's get the mean of this population. Recall the mean is simply the average: $$ \\frac{\\sum_{i=0}^{N-1} X_i}{N} $$\n"
   ]
  },
  {
   "cell_type": "code",
   "execution_count": 110,
   "metadata": {},
   "outputs": [
    {
     "name": "stdout",
     "output_type": "stream",
     "text": [
      "9.95463191307012\n"
     ]
    }
   ],
   "source": [
    "mean = np.sum(P)/len(P)\n",
    "## Note the different ways of summing a vector in numpy:\n",
    "## - np.add.reduce(sample)\n",
    "## - np.sum(sample)\n",
    "\n",
    "## Can also determine the mean from the .mean() method\n",
    "\n",
    "\n",
    "print(mean)"
   ]
  },
  {
   "cell_type": "markdown",
   "metadata": {},
   "source": [
    "Now, let's get the median and compare the results:\n"
   ]
  },
  {
   "cell_type": "code",
   "execution_count": 112,
   "metadata": {},
   "outputs": [
    {
     "data": {
      "text/plain": [
       "9.964381471455374"
      ]
     },
     "execution_count": 112,
     "metadata": {},
     "output_type": "execute_result"
    }
   ],
   "source": [
    "np.median(P)\n",
    "\n",
    "## To do this manually, just sort the vector and pick the middle element. \n",
    "## If the array length is even, take the average of the middle two elements, \n",
    "## otherwise just take the middle element:\n",
    "\n",
    "# sorted_sample = np.sort(sample)\n",
    "# if len(sorted_sample) % 2==0:\n",
    "#     print((sorted_sample[len(sorted_sample)//2-1]\n",
    "#    + sorted_sample[len(sorted_sample)//2])/2)\n",
    "# else:\n",
    "#     print((sorted_sample[len//2])"
   ]
  },
  {
   "cell_type": "markdown",
   "metadata": {},
   "source": [
    "We now look at the variance and standard deviation, which represents the spread of the data from the mean:"
   ]
  },
  {
   "cell_type": "markdown",
   "metadata": {},
   "source": [
    "The calculation of the variance, is given by: $$Var(Population) = \\frac{1}{N} \\sum_{i=0}^{N-1} (X_i - \\mu)^2$$ Where N is the length of the population vector and $\\mu$ is the mean of the population.\n"
   ]
  },
  {
   "cell_type": "code",
   "execution_count": 94,
   "metadata": {},
   "outputs": [
    {
     "name": "stdout",
     "output_type": "stream",
     "text": [
      "24.614376450825333\n"
     ]
    }
   ],
   "source": [
    "pop_var = np.var(P)\n",
    "print(pop_var)\n",
    "\n",
    "\n",
    "# We can also get the variance manually by doing: \n",
    "# pop_var = np.sum((P-P.mean())**2)/N\n",
    "# This is just doing a sum of the element-wise squared \n",
    "#errors divided by the length of the vector."
   ]
  },
  {
   "cell_type": "markdown",
   "metadata": {},
   "source": [
    "The standard deviation is defined as the square-root of the variance: $$ \\sigma(Population) = \\sqrt{Var(X)}$$ "
   ]
  },
  {
   "cell_type": "code",
   "execution_count": 95,
   "metadata": {},
   "outputs": [
    {
     "name": "stdout",
     "output_type": "stream",
     "text": [
      "4.961287781496386\n"
     ]
    }
   ],
   "source": [
    "pop_sd = np.sqrt(pop_var)\n",
    "print(pop_sd)"
   ]
  },
  {
   "cell_type": "markdown",
   "metadata": {},
   "source": [
    "Thus if we check the standard deviation of the population, the answer looks very close to 5! This is exactly the true standard deviation of the population."
   ]
  },
  {
   "cell_type": "markdown",
   "metadata": {},
   "source": [
    "We talked about the population mean and variance. Now, let's talk about the mean and variance of the sample."
   ]
  },
  {
   "cell_type": "markdown",
   "metadata": {},
   "source": [
    "Let's sample 100 observations from this population vector, P:"
   ]
  },
  {
   "cell_type": "code",
   "execution_count": 113,
   "metadata": {},
   "outputs": [
    {
     "name": "stdout",
     "output_type": "stream",
     "text": [
      "[18.25349846 11.97787858 10.99136953 18.53291841  7.28488333  3.02145545\n",
      " 13.61480915 18.29212392  1.16888876 12.32285265]\n"
     ]
    }
   ],
   "source": [
    "sample = np.random.choice(P,100)\n",
    "print(sample[:10])"
   ]
  },
  {
   "cell_type": "markdown",
   "metadata": {},
   "source": [
    "In order to get the sample mean, we can just take the average of the sample. Let's use $\\hat{\\mu}$ to represent the ** sample mean**:"
   ]
  },
  {
   "cell_type": "code",
   "execution_count": 115,
   "metadata": {},
   "outputs": [
    {
     "name": "stdout",
     "output_type": "stream",
     "text": [
      "10.319664970434495\n"
     ]
    }
   ],
   "source": [
    "sample_mean = sample.mean()\n",
    "print(sample_mean)\n",
    "\n",
    "## You can also do:\n",
    "## sample_mean = np.sum(sample)/len(sample)\n",
    "## print(sample_mean)"
   ]
  },
  {
   "cell_type": "markdown",
   "metadata": {},
   "source": [
    "Then for the sample variance, we use this formula: $$Var(Sample) = \\frac{1}{n-1} \\sum_{i=0}^{n-1} (X_i - \\hat{\\mu})^2$$\n",
    "\n",
    "Where n is the size of the sample and $\\hat{\\mu}$ represents the sample mean. \n",
    "\n",
    "The intuition behind the difference in the sum being scaled by $\\frac{1}{n-1}$ instead of $\\frac{1}{n}$ is due to the fact that the act of calculating the mean from the sample data introduces a form of deviation from the true mean. I.e:\n",
    "\n",
    "$$ \\mu = \\hat{\\mu} + \\epsilon \\quad \\quad where \\; \\epsilon \\geq 0$$  \n",
    "\n",
    "If we look closer at the calculation of the population\n",
    "variance, we then see:\n",
    "\n",
    "$$ \\sum_{i=0}^{n-1} (X_i - \\mu)^2 = \\sum_{i=0}^{n-1} (X_i - \\hat{\\mu} + \\hat{\\mu} - \\mu)^2 $$\n",
    "\n",
    "This gives:\n",
    "\n",
    "$$ \\underbrace{\\sum_{i=0}^{n-1} (X_i - \\hat{\\mu} + \\hat{\\mu} - \\mu)^2}_\\text{Population Variance} = \\underbrace{\\sum_{i=0}^{n-1} (X_i - \\hat{\\mu})^2}_\\text{Sample Variance} + \\underbrace{\\sum_{i=0}^{n-1}(\\hat{\\mu} - \\mu)^2}_\\text{this is $\\geq$ 0} + 2\\sum_{i=0}^{n-1}(X_i - \\hat{\\mu})(\\hat{\\mu}-\\mu)$$\n",
    "\n",
    "Now, we know that $\\hat{\\mu} = \\frac{1}{n}\\sum_{i=0}^{n-1}X_i$ by definition. So $\\sum_{i=0}^{n-1}(X_i - \\hat{\\mu})(\\hat{\\mu}-\\mu)$ is necessarily equal to $0$. This means that we have:\n",
    "\n",
    "$$ \\underbrace{\\sum_{i=0}^{n-1} (X_i - \\hat{\\mu} + \\hat{\\mu} - \\mu)^2}_\\text{Population Variance} = \\underbrace{\\sum_{i=0}^{n-1} (X_i - \\hat{\\mu})^2}_\\text{Sample Variance} + \\underbrace{\\sum_{i=0}^{n-1}(\\hat{\\mu} - \\mu)^2}_\\text{this is $\\geq$ 0}$$ \n",
    "\n",
    "Which implies:\n",
    "\n",
    "$$ Variance(Population) \\geq Variance(Sample) $$\n",
    "\n",
    "Thus, the sample variance that is calculated is less than would be expected, which is why we need to scale it by a smaller factor of $\\frac{1}{n-1}$ instead of $\\frac{1}{n}$."
   ]
  },
  {
   "cell_type": "markdown",
   "metadata": {},
   "source": [
    "\n",
    "Let's now talk about percentiles:\n"
   ]
  },
  {
   "cell_type": "markdown",
   "metadata": {},
   "source": [
    "\n",
    "The $n$-th percentile of a vector determines the value at which the probability of getting an observations below it is $n\\%$."
   ]
  },
  {
   "cell_type": "code",
   "execution_count": 127,
   "metadata": {},
   "outputs": [
    {
     "name": "stdout",
     "output_type": "stream",
     "text": [
      "-4.528680954058658\n"
     ]
    }
   ],
   "source": [
    "print(np.percentile(P,.25))"
   ]
  },
  {
   "cell_type": "markdown",
   "metadata": {},
   "source": [
    "This means that the probability of the viewing an observation of less than $-4.53$ is $0.25\\%$ "
   ]
  },
  {
   "cell_type": "markdown",
   "metadata": {},
   "source": [
    "## 4. Multivariate Distributions"
   ]
  },
  {
   "cell_type": "markdown",
   "metadata": {},
   "source": [
    "When we deal with more than one variables, sometimes we can see that they can be related in some way or another."
   ]
  },
  {
   "cell_type": "markdown",
   "metadata": {},
   "source": [
    "Let's generate two variables that we are going to use to represent height and weight of the population in Singapore. Let's assume that they are unrelated, and height has a mean of 155 cm with a standard deviation of 5 cm and weight has a mean of 65 kg with standard deviation of 5 kg."
   ]
  },
  {
   "cell_type": "code",
   "execution_count": 128,
   "metadata": {},
   "outputs": [],
   "source": [
    "data = np.random.multivariate_normal([155,65],[[5,0],[0,5]],200)"
   ]
  },
  {
   "cell_type": "code",
   "execution_count": 140,
   "metadata": {},
   "outputs": [],
   "source": [
    "height = data[:,0]\n",
    "weight = data[:,1]\n"
   ]
  },
  {
   "cell_type": "markdown",
   "metadata": {},
   "source": [
    "Let's plot the height and the weight on a scatter plot:"
   ]
  },
  {
   "cell_type": "code",
   "execution_count": 141,
   "metadata": {},
   "outputs": [
    {
     "data": {
      "text/plain": [
       "<matplotlib.collections.PathCollection at 0x10fcf9898>"
      ]
     },
     "execution_count": 141,
     "metadata": {},
     "output_type": "execute_result"
    },
    {
     "data": {
      "image/png": "[encoded data removed]",
      "text/plain": [
       "<Figure size 432x288 with 1 Axes>"
      ]
     },
     "metadata": {},
     "output_type": "display_data"
    }
   ],
   "source": [
    "plt.scatter(height,weight)"
   ]
  },
  {
   "cell_type": "markdown",
   "metadata": {},
   "source": [
    "This provides some empirical evidence that height and weight are not correlated.\n"
   ]
  },
  {
   "cell_type": "markdown",
   "metadata": {},
   "source": [
    "We can even place a value to measure the related-ness of the two variables by considering a quantity known as the covariance. This is given by: $$ Cov(X,Y) = \\frac{1}{n} \\sum_{i=0}^{n}(X-\\mu_{x})(Y-\\mu_{y})$$ Where $\\mu_{x}$ and $\\mu_{y}$ are the true means of the populations of the $X$ and $Y$ random variables respectively."
   ]
  },
  {
   "cell_type": "code",
   "execution_count": 145,
   "metadata": {},
   "outputs": [
    {
     "data": {
      "text/plain": [
       "array([[ 5.41215244, -0.06906557],\n",
       "       [-0.06906557,  5.32692431]])"
      ]
     },
     "execution_count": 145,
     "metadata": {},
     "output_type": "execute_result"
    }
   ],
   "source": [
    "np.cov(height,weight)"
   ]
  },
  {
   "cell_type": "markdown",
   "metadata": {},
   "source": [
    "The above is a matrix that tells us the covariance between the height and weight variables as well as their corresponding variances. This is known as a covariance matrix, $\\Sigma$ and it has the following form: $$ \\Sigma_{ij} = Cov(X_i,X_j)$$ Where $X_i$ and $X_j$ are the different variables in question.  "
   ]
  },
  {
   "cell_type": "markdown",
   "metadata": {},
   "source": [
    "The sign of the covariance determines how the variables are related. A positive covariance indicates that there is positive correlation and vice versa."
   ]
  },
  {
   "cell_type": "markdown",
   "metadata": {},
   "source": [
    "Sometimes, we can have a situation where the magnitude of a certain variable far outweighs the other. (Say, you are  trying to find out whether a planet moves at a certain angle from the Earth's horizon based on the planet's mass!!!). This means that when we calculate covariance we need to scale the variables in some way such that they can be compared in a sensible way. This leads to the idea of correlation, which is the covariance scaled by the product of the standard deviations:\n",
    "\n",
    "$$ Corr(X,Y) = \\frac{1}{n} \\frac{\\sum_{i=0}^{n}(X-\\mu_{x})(Y-\\mu_{y})}{\\sqrt{Var_x Var_y}}$$"
   ]
  },
  {
   "cell_type": "code",
   "execution_count": 146,
   "metadata": {},
   "outputs": [
    {
     "data": {
      "text/plain": [
       "array([[ 1.        , -0.01286288],\n",
       "       [-0.01286288,  1.        ]])"
      ]
     },
     "execution_count": 146,
     "metadata": {},
     "output_type": "execute_result"
    }
   ],
   "source": [
    "np.corrcoef(height,weight)"
   ]
  },
  {
   "cell_type": "markdown",
   "metadata": {},
   "source": [
    "The values of the correlation coefficient will always be between 0 and 1. With 0 indicating no correlation and 1 indicating perfect correlation."
   ]
  },
  {
   "cell_type": "markdown",
   "metadata": {},
   "source": [
    "In the example we see above, we surmise that height and weight variables are not correlated from the plot; and the correlation coefficient supports this statement."
   ]
  }
 ],
 "metadata": {
  "kernelspec": {
   "display_name": "Python 3",
   "language": "python",
   "name": "python3"
  },
  "language_info": {
   "codemirror_mode": {
    "name": "ipython",
    "version": 3
   },
   "file_extension": ".py",
   "mimetype": "text/x-python",
   "name": "python",
   "nbconvert_exporter": "python",
   "pygments_lexer": "ipython3",
   "version": "3.6.5"
  }
 },
 "nbformat": 4,
 "nbformat_minor": 2
}
