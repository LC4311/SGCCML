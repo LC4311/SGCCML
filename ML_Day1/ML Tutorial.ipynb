{
 "cells": [
  {
   "cell_type": "code",
   "execution_count": 1,
   "metadata": {},
   "outputs": [],
   "source": [
    "import numpy as np\n",
    "import pandas as pd\n",
    "import matplotlib.pyplot as plt\n",
    "import sklearn\n",
    "import seaborn as sns\n",
    "\n",
    "%matplotlib inline\n"
   ]
  },
  {
   "cell_type": "markdown",
   "metadata": {},
   "source": [
    "# Primer on Stats and Numpy"
   ]
  },
  {
   "cell_type": "markdown",
   "metadata": {},
   "source": [
    "## 1. Random Numbers and Vectors"
   ]
  },
  {
   "cell_type": "markdown",
   "metadata": {},
   "source": [
    "Using `arange` to create a range:"
   ]
  },
  {
   "cell_type": "code",
   "execution_count": 2,
   "metadata": {},
   "outputs": [
    {
     "name": "stdout",
     "output_type": "stream",
     "text": [
      "[1 2 3 4 5 6 7 8 9]\n"
     ]
    }
   ],
   "source": [
    "arr = np.arange(1,10)\n",
    "print(arr)"
   ]
  },
  {
   "cell_type": "markdown",
   "metadata": {},
   "source": [
    "Then turn it into a matrix:\n"
   ]
  },
  {
   "cell_type": "code",
   "execution_count": 3,
   "metadata": {},
   "outputs": [
    {
     "name": "stdout",
     "output_type": "stream",
     "text": [
      "[[1 2 3]\n",
      " [4 5 6]\n",
      " [7 8 9]]\n"
     ]
    }
   ],
   "source": [
    "mat = arr.reshape(3,3)\n",
    "print(mat)"
   ]
  },
  {
   "cell_type": "markdown",
   "metadata": {},
   "source": [
    "Create an array of uniformly distributed random variables:"
   ]
  },
  {
   "cell_type": "code",
   "execution_count": 4,
   "metadata": {},
   "outputs": [
    {
     "name": "stdout",
     "output_type": "stream",
     "text": [
      "[0.09121741 0.21026229 0.41894043 0.65773733 0.27276868 0.32855518\n",
      " 0.33982559 0.94067093 0.43926123 0.82507778 0.48212902 0.25520169\n",
      " 0.28031147 0.87223637 0.93958329 0.01642871 0.4067674  0.2403096\n",
      " 0.25466684 0.46740894 0.32685367 0.79852408 0.48419135 0.76127476\n",
      " 0.01998746 0.57470029 0.75322726 0.06336117 0.6066609  0.02625092\n",
      " 0.91590854 0.38086316 0.93031831 0.75042228 0.19017308 0.10147913\n",
      " 0.95914965 0.66139379 0.09624252 0.5289766  0.86272171 0.51095858\n",
      " 0.34959463 0.32279729 0.74551431 0.10226072 0.8170331  0.76251869\n",
      " 0.90822395 0.11776051 0.46417873 0.20271594 0.97742452 0.93174752\n",
      " 0.31153872 0.84903422 0.17494342 0.68448491 0.35880968 0.70005959\n",
      " 0.55164715 0.10431692 0.01099869 0.16464468 0.81067484 0.25866668\n",
      " 0.32968426 0.47349388 0.24854649 0.10352777 0.83369641 0.90514176\n",
      " 0.94000318 0.64439098 0.85230016 0.38889408 0.53930822 0.9599103\n",
      " 0.25224451 0.70366941 0.95114326 0.90946287 0.02111818 0.32340711\n",
      " 0.97278524 0.89999649 0.31232846 0.77938015 0.26649543 0.65219092\n",
      " 0.09840755 0.8971013  0.15433188 0.57048736 0.53187393 0.54520693\n",
      " 0.87835576 0.32878588 0.11222366 0.37849531]\n"
     ]
    }
   ],
   "source": [
    "randlist = np.random.random(100)\n",
    "print(randlist)"
   ]
  },
  {
   "cell_type": "markdown",
   "metadata": {},
   "source": [
    "You can then multiply the list by a scale parameter and add a shift parameter to give the following random vector:"
   ]
  },
  {
   "cell_type": "code",
   "execution_count": 5,
   "metadata": {},
   "outputs": [
    {
     "name": "stdout",
     "output_type": "stream",
     "text": [
      "[10.91217408 12.10262288 14.18940431 16.57737326 12.72768681 13.28555176\n",
      " 13.39825587 19.40670925 14.39261228 18.25077777 14.82129018 12.55201687\n",
      " 12.80311474 18.7223637  19.3958329  10.16428705 14.06767395 12.403096\n",
      " 12.54666841 14.67408937 13.26853667 17.98524081 14.84191349 17.6127476\n",
      " 10.19987461 15.74700292 17.53227257 10.63361171 16.066609   10.26250917\n",
      " 19.15908539 13.80863164 19.30318306 17.50422284 11.90173078 11.01479132\n",
      " 19.59149645 16.61393794 10.96242525 15.28976603 18.62721705 15.1095858\n",
      " 13.49594633 13.22797289 17.45514311 11.02260715 18.17033099 17.62518692\n",
      " 19.08223948 11.17760505 14.64178725 12.02715943 19.77424518 19.31747522\n",
      " 13.11538721 18.49034218 11.74943423 16.84484908 13.5880968  17.00059591\n",
      " 15.51647154 11.04316922 10.10998688 11.64644685 18.10674845 12.58666681\n",
      " 13.29684262 14.73493884 12.4854649  11.03527773 18.33696409 19.05141757\n",
      " 19.40003181 16.44390979 18.52300164 13.88894076 15.39308223 19.59910304\n",
      " 12.52244511 17.03669412 19.51143264 19.09462874 10.2111818  13.23407107\n",
      " 19.72785238 18.99996491 13.12328459 17.79380152 12.66495434 16.52190925\n",
      " 10.98407548 18.97101304 11.54331876 15.70487365 15.31873928 15.45206934\n",
      " 18.78355764 13.28785885 11.12223658 13.78495315]\n"
     ]
    }
   ],
   "source": [
    "randlist = randlist * 10 + 10\n",
    "print(randlist)"
   ]
  },
  {
   "cell_type": "markdown",
   "metadata": {},
   "source": [
    "Which is an array of random `(float)` numbers from 10 to 20 distributed uniformly in between."
   ]
  },
  {
   "cell_type": "markdown",
   "metadata": {},
   "source": [
    "When you are dealing with a random number generator (rng), it is often helpful to set the seed so that you can reproduce your result."
   ]
  },
  {
   "cell_type": "code",
   "execution_count": 6,
   "metadata": {},
   "outputs": [
    {
     "name": "stdout",
     "output_type": "stream",
     "text": [
      "[0. 0. 0. 0. 0. 0. 0. 0. 0. 0. 0. 0. 0. 0. 0. 0. 0. 0. 0. 0. 0. 0. 0. 0.\n",
      " 0. 0. 0. 0. 0. 0. 0. 0. 0. 0. 0. 0. 0. 0. 0. 0. 0. 0. 0. 0. 0. 0. 0. 0.\n",
      " 0. 0. 0. 0. 0. 0. 0. 0. 0. 0. 0. 0. 0. 0. 0. 0. 0. 0. 0. 0. 0. 0. 0. 0.\n",
      " 0. 0. 0. 0. 0. 0. 0. 0. 0. 0. 0. 0. 0. 0. 0. 0. 0. 0. 0. 0. 0. 0. 0. 0.\n",
      " 0. 0. 0. 0.]\n"
     ]
    }
   ],
   "source": [
    "np.random.seed(1)\n",
    "randlist1 =  np.random.random(100) * 10 + 10\n",
    "np.random.seed(1)\n",
    "randlist2 =  np.random.random(100) * 10 + 10\n",
    "print(randlist1-randlist2)"
   ]
  },
  {
   "cell_type": "markdown",
   "metadata": {},
   "source": [
    "## 2. Matrices"
   ]
  },
  {
   "cell_type": "markdown",
   "metadata": {},
   "source": [
    "To create a matrix, use `np.matrix`:"
   ]
  },
  {
   "cell_type": "code",
   "execution_count": 7,
   "metadata": {},
   "outputs": [
    {
     "name": "stdout",
     "output_type": "stream",
     "text": [
      "[[1 2 3]\n",
      " [4 5 6]\n",
      " [6 7 8]]\n"
     ]
    }
   ],
   "source": [
    "mat1 = np.matrix([[1,2,3],[4,5,6],[6,7,8]])\n",
    "print(mat1)"
   ]
  },
  {
   "cell_type": "markdown",
   "metadata": {},
   "source": [
    "All matrix objects have `.I` **attribute**, which calculates the inverse (if it exists):"
   ]
  },
  {
   "cell_type": "code",
   "execution_count": 8,
   "metadata": {},
   "outputs": [
    {
     "name": "stdout",
     "output_type": "stream",
     "text": [
      "[[ 1.7156570e+15 -4.2891425e+15  2.5734855e+15]\n",
      " [-3.4313140e+15  8.5782850e+15 -5.1469710e+15]\n",
      " [ 1.7156570e+15 -4.2891425e+15  2.5734855e+15]]\n"
     ]
    }
   ],
   "source": [
    "print(mat1.I)"
   ]
  },
  {
   "cell_type": "markdown",
   "metadata": {},
   "source": [
    "You can also view the `.T` **attribute**:"
   ]
  },
  {
   "cell_type": "code",
   "execution_count": 9,
   "metadata": {},
   "outputs": [
    {
     "name": "stdout",
     "output_type": "stream",
     "text": [
      "[[1 4 6]\n",
      " [2 5 7]\n",
      " [3 6 8]]\n"
     ]
    }
   ],
   "source": [
    "print(mat1.T)"
   ]
  },
  {
   "cell_type": "markdown",
   "metadata": {},
   "source": [
    "The `*` operator carries out matrix multiplication instead of multiplying it element-wise:"
   ]
  },
  {
   "cell_type": "code",
   "execution_count": 10,
   "metadata": {},
   "outputs": [
    {
     "data": {
      "text/plain": [
       "matrix([[ 78,  84,  90],\n",
       "        [186, 201, 216],\n",
       "        [258, 279, 300]])"
      ]
     },
     "execution_count": 10,
     "metadata": {},
     "output_type": "execute_result"
    }
   ],
   "source": [
    "mat2 = np.matrix([[9,10,11],[12,13,14],[15,16,17]])\n",
    "mat1*mat2"
   ]
  },
  {
   "cell_type": "markdown",
   "metadata": {},
   "source": [
    "NumPy has built in functions to create commonly used matrices:"
   ]
  },
  {
   "cell_type": "code",
   "execution_count": 11,
   "metadata": {},
   "outputs": [
    {
     "data": {
      "text/plain": [
       "array([[1., 0., 0., 0., 0., 0., 0., 0., 0., 0.],\n",
       "       [0., 1., 0., 0., 0., 0., 0., 0., 0., 0.],\n",
       "       [0., 0., 1., 0., 0., 0., 0., 0., 0., 0.],\n",
       "       [0., 0., 0., 1., 0., 0., 0., 0., 0., 0.],\n",
       "       [0., 0., 0., 0., 1., 0., 0., 0., 0., 0.],\n",
       "       [0., 0., 0., 0., 0., 1., 0., 0., 0., 0.],\n",
       "       [0., 0., 0., 0., 0., 0., 1., 0., 0., 0.],\n",
       "       [0., 0., 0., 0., 0., 0., 0., 1., 0., 0.],\n",
       "       [0., 0., 0., 0., 0., 0., 0., 0., 1., 0.],\n",
       "       [0., 0., 0., 0., 0., 0., 0., 0., 0., 1.]])"
      ]
     },
     "execution_count": 11,
     "metadata": {},
     "output_type": "execute_result"
    }
   ],
   "source": [
    "#Identity Matrix\n",
    "\n",
    "np.eye(10)"
   ]
  },
  {
   "cell_type": "code",
   "execution_count": 12,
   "metadata": {},
   "outputs": [
    {
     "data": {
      "text/plain": [
       "array([[1., 1., 1.],\n",
       "       [1., 1., 1.],\n",
       "       [1., 1., 1.]])"
      ]
     },
     "execution_count": 12,
     "metadata": {},
     "output_type": "execute_result"
    }
   ],
   "source": [
    "#Matrix of Ones\n",
    "\n",
    "np.ones((3,3))\n",
    "\n"
   ]
  },
  {
   "cell_type": "code",
   "execution_count": 13,
   "metadata": {},
   "outputs": [
    {
     "data": {
      "text/plain": [
       "array([[1., 1., 1.],\n",
       "       [1., 1., 1.]])"
      ]
     },
     "execution_count": 13,
     "metadata": {},
     "output_type": "execute_result"
    }
   ],
   "source": [
    "np.ones((2,3))\n"
   ]
  },
  {
   "cell_type": "code",
   "execution_count": 14,
   "metadata": {},
   "outputs": [
    {
     "data": {
      "text/plain": [
       "array([[1., 1.],\n",
       "       [1., 1.],\n",
       "       [1., 1.]])"
      ]
     },
     "execution_count": 14,
     "metadata": {},
     "output_type": "execute_result"
    }
   ],
   "source": [
    "np.ones((3,2))"
   ]
  },
  {
   "cell_type": "markdown",
   "metadata": {},
   "source": [
    "## 3. Summary Statistics"
   ]
  },
  {
   "cell_type": "markdown",
   "metadata": {},
   "source": [
    "First, let's start off with a seed for our rng:"
   ]
  },
  {
   "cell_type": "code",
   "execution_count": 15,
   "metadata": {},
   "outputs": [],
   "source": [
    "rng = np.random.RandomState(7)"
   ]
  },
  {
   "cell_type": "markdown",
   "metadata": {},
   "source": [
    "Then let's create a vector of 10000 observations from a normal distribution with mean = 10 and standard deviation = 5."
   ]
  },
  {
   "cell_type": "code",
   "execution_count": 16,
   "metadata": {},
   "outputs": [],
   "source": [
    "P = rng.normal(10,5,10000)"
   ]
  },
  {
   "cell_type": "markdown",
   "metadata": {},
   "source": [
    "Let's view the first 10 elements of P:"
   ]
  },
  {
   "cell_type": "code",
   "execution_count": 17,
   "metadata": {},
   "outputs": [
    {
     "data": {
      "text/plain": [
       "array([18.45262852,  7.67031315, 10.16410082, 12.03758141,  6.05538486,\n",
       "       10.01032786,  9.99554807,  1.22637847, 15.08829003, 13.00249258])"
      ]
     },
     "execution_count": 17,
     "metadata": {},
     "output_type": "execute_result"
    }
   ],
   "source": [
    "P[:10]"
   ]
  },
  {
   "cell_type": "markdown",
   "metadata": {},
   "source": [
    "Let's get the mean of this population. Recall the mean is simply the average: $$ \\frac{\\sum_{i=0}^{N-1} X_i}{N} $$\n"
   ]
  },
  {
   "cell_type": "code",
   "execution_count": 18,
   "metadata": {},
   "outputs": [
    {
     "name": "stdout",
     "output_type": "stream",
     "text": [
      "9.95463191307012\n"
     ]
    }
   ],
   "source": [
    "mean = np.sum(P)/len(P)\n",
    "## Note the different ways of summing a vector in numpy:\n",
    "## - np.add.reduce(sample)\n",
    "## - np.sum(sample)\n",
    "\n",
    "## Can also determine the mean from the .mean() method\n",
    "\n",
    "\n",
    "print(mean)"
   ]
  },
  {
   "cell_type": "markdown",
   "metadata": {},
   "source": [
    "Now, let's get the median and compare the results:\n"
   ]
  },
  {
   "cell_type": "code",
   "execution_count": 19,
   "metadata": {},
   "outputs": [
    {
     "data": {
      "text/plain": [
       "9.964381471455374"
      ]
     },
     "execution_count": 19,
     "metadata": {},
     "output_type": "execute_result"
    }
   ],
   "source": [
    "np.median(P)\n",
    "\n",
    "## To do this manually, just sort the vector and pick the middle element. \n",
    "## If the array length is even, take the average of the middle two elements, \n",
    "## otherwise just take the middle element:\n",
    "\n",
    "# sorted_sample = np.sort(sample)\n",
    "# if len(sorted_sample) % 2==0:\n",
    "#     print((sorted_sample[len(sorted_sample)//2-1]\n",
    "#    + sorted_sample[len(sorted_sample)//2])/2)\n",
    "# else:\n",
    "#     print((sorted_sample[len//2])"
   ]
  },
  {
   "cell_type": "markdown",
   "metadata": {},
   "source": [
    "We now look at the variance and standard deviation, which represents the spread of the data from the mean:"
   ]
  },
  {
   "cell_type": "markdown",
   "metadata": {},
   "source": [
    "The calculation of the variance, $Var_{Population}$, is given by: $$Var_{Population} = \\frac{1}{N} \\sum_{i=0}^{N-1} (X_i - \\mu)^2$$ Where N is the length of the population vector and $\\mu$ is the mean of the population.\n"
   ]
  },
  {
   "cell_type": "code",
   "execution_count": 20,
   "metadata": {},
   "outputs": [
    {
     "name": "stdout",
     "output_type": "stream",
     "text": [
      "24.614376450825333\n"
     ]
    }
   ],
   "source": [
    "pop_var = np.var(P)\n",
    "print(pop_var)\n",
    "\n",
    "\n",
    "# We can also get the variance manually by doing: \n",
    "# pop_var = np.sum((P-P.mean())**2)/N\n",
    "# This is just doing a sum of the element-wise squared \n",
    "#errors divided by the length of the vector."
   ]
  },
  {
   "cell_type": "markdown",
   "metadata": {},
   "source": [
    "The standard deviation is defined as the square-root of the variance: $$ \\sigma_{Population} = \\sqrt{Var_{Population}}$$ "
   ]
  },
  {
   "cell_type": "code",
   "execution_count": 21,
   "metadata": {},
   "outputs": [
    {
     "name": "stdout",
     "output_type": "stream",
     "text": [
      "4.961287781496386\n"
     ]
    }
   ],
   "source": [
    "pop_sd = np.sqrt(pop_var)\n",
    "print(pop_sd)"
   ]
  },
  {
   "cell_type": "markdown",
   "metadata": {},
   "source": [
    "Thus if we check the standard deviation of the population, the answer looks very close to 5, which is exactly the true standard deviation of the population!"
   ]
  },
  {
   "cell_type": "markdown",
   "metadata": {},
   "source": [
    "We talked about the population mean and variance. Now, let's talk about the mean and variance of the sample."
   ]
  },
  {
   "cell_type": "markdown",
   "metadata": {},
   "source": [
    "Let's sample 100 observations from this population vector, P:"
   ]
  },
  {
   "cell_type": "code",
   "execution_count": 22,
   "metadata": {},
   "outputs": [
    {
     "name": "stdout",
     "output_type": "stream",
     "text": [
      "[18.25349846 11.97787858 10.99136953 18.53291841  7.28488333  3.02145545\n",
      " 13.61480915 18.29212392  1.16888876 12.32285265]\n"
     ]
    }
   ],
   "source": [
    "sample = np.random.choice(P,100)\n",
    "print(sample[:10])"
   ]
  },
  {
   "cell_type": "markdown",
   "metadata": {},
   "source": [
    "In order to get the sample mean, we can just take the average of the sample. Let's use $\\hat{\\mu}$ to represent the **sample mean**:"
   ]
  },
  {
   "cell_type": "code",
   "execution_count": 23,
   "metadata": {},
   "outputs": [
    {
     "name": "stdout",
     "output_type": "stream",
     "text": [
      "10.319664970434495\n"
     ]
    }
   ],
   "source": [
    "sample_mean = sample.mean()\n",
    "print(sample_mean)\n",
    "\n",
    "## You can also do:\n",
    "## sample_mean = np.sum(sample)/len(sample)\n",
    "## print(sample_mean)"
   ]
  },
  {
   "cell_type": "markdown",
   "metadata": {},
   "source": [
    "Then for the sample variance, we use this formula: $$Var_{Sample} = \\frac{1}{n-1} \\sum_{i=0}^{n-1} (X_i - \\hat{\\mu})^2$$\n",
    "\n",
    "Where n is the size of the sample and $\\hat{\\mu}$ represents the sample mean. \n",
    "\n",
    "The intuition behind the difference in the sum being scaled by $\\frac{1}{n-1}$ instead of $\\frac{1}{n}$ is due to the fact that the act of calculating the mean from the sample data introduces a form of deviation from the true mean. I.e:\n",
    "\n",
    "$$ \\mu = \\hat{\\mu} + \\epsilon \\quad \\quad $$  \n",
    "\n",
    "If we look closer at the calculation of the population\n",
    "variance, we then see:\n",
    "\n",
    "$$ \\sum_{i=0}^{n-1} (X_i - \\mu)^2 = \\sum_{i=0}^{n-1} (X_i - \\hat{\\mu} + \\hat{\\mu} - \\mu)^2 $$\n",
    "\n",
    "This gives:\n",
    "\n",
    "$$ \\underbrace{\\sum_{i=0}^{n-1} (X_i - \\hat{\\mu} + \\hat{\\mu} - \\mu)^2}_\\text{Population Variance} = \\underbrace{\\sum_{i=0}^{n-1} (X_i - \\hat{\\mu})^2}_\\text{Sample Variance} + \\underbrace{\\sum_{i=0}^{n-1}(\\hat{\\mu} - \\mu)^2}_\\text{this is $\\geq$ 0} + 2\\sum_{i=0}^{n-1}(X_i - \\hat{\\mu})(\\hat{\\mu}-\\mu)$$\n",
    "\n",
    "Now, we know that $\\hat{\\mu} = \\frac{1}{n}\\sum_{i=0}^{n-1}X_i$ by definition. So $\\sum_{i=0}^{n-1}(X_i - \\hat{\\mu})(\\hat{\\mu}-\\mu)$ is necessarily equal to $0$. This means that we have:\n",
    "\n",
    "$$ \\underbrace{\\sum_{i=0}^{n-1} (X_i - \\hat{\\mu} + \\hat{\\mu} - \\mu)^2}_\\text{Population Variance} = \\underbrace{\\sum_{i=0}^{n-1} (X_i - \\hat{\\mu})^2}_\\text{Sample Variance} + \\underbrace{\\sum_{i=0}^{n-1}(\\hat{\\mu} - \\mu)^2}_\\text{this is $\\geq$ 0}$$ \n",
    "\n",
    "Which implies:\n",
    "\n",
    "$$ Variance(Population) \\geq Variance(Sample) $$\n",
    "\n",
    "Thus, the sample variance that is calculated is less than would be expected, which is why we need to scale it by a smaller factor of $\\frac{1}{n-1}$ instead of $\\frac{1}{n}$."
   ]
  },
  {
   "cell_type": "markdown",
   "metadata": {},
   "source": [
    "\n",
    "Let's now talk about percentiles:\n"
   ]
  },
  {
   "cell_type": "markdown",
   "metadata": {},
   "source": [
    "\n",
    "The $n$-th percentile of a vector determines the value at which the probability of getting an observations below it is $n\\%$."
   ]
  },
  {
   "cell_type": "code",
   "execution_count": 24,
   "metadata": {},
   "outputs": [
    {
     "name": "stdout",
     "output_type": "stream",
     "text": [
      "-4.528680954058658\n"
     ]
    }
   ],
   "source": [
    "print(np.percentile(P,.25))"
   ]
  },
  {
   "cell_type": "markdown",
   "metadata": {},
   "source": [
    "This means that the probability of the viewing an observation of less than $-4.53$ is $0.25\\%$ "
   ]
  },
  {
   "cell_type": "markdown",
   "metadata": {},
   "source": [
    "## 4. Multivariate Distributions"
   ]
  },
  {
   "cell_type": "markdown",
   "metadata": {},
   "source": [
    "When we deal with more than one variables, sometimes we can see that they can be related in some way or another."
   ]
  },
  {
   "cell_type": "markdown",
   "metadata": {},
   "source": [
    "Let's generate two variables that we are going to use to represent height and weight of the population in Singapore. Let's assume that they are unrelated, and height has a mean of 155 cm with a standard deviation of 5 cm and weight has a mean of 65 kg with standard deviation of 5 kg."
   ]
  },
  {
   "cell_type": "code",
   "execution_count": 25,
   "metadata": {},
   "outputs": [],
   "source": [
    "data = np.random.multivariate_normal([155,65],[[5,0],[0,5]],200)"
   ]
  },
  {
   "cell_type": "code",
   "execution_count": 26,
   "metadata": {},
   "outputs": [],
   "source": [
    "height = data[:,0]\n",
    "weight = data[:,1]\n"
   ]
  },
  {
   "cell_type": "markdown",
   "metadata": {},
   "source": [
    "Let's plot the height and the weight on a scatter plot:"
   ]
  },
  {
   "cell_type": "code",
   "execution_count": 27,
   "metadata": {},
   "outputs": [
    {
     "data": {
      "text/plain": [
       "<matplotlib.collections.PathCollection at 0x108ef0828>"
      ]
     },
     "execution_count": 27,
     "metadata": {},
     "output_type": "execute_result"
    },
    {
     "data": {
      "image/png": "[encoded data removed]",
      "text/plain": [
       "<Figure size 432x288 with 1 Axes>"
      ]
     },
     "metadata": {},
     "output_type": "display_data"
    }
   ],
   "source": [
    "plt.scatter(height,weight)\n"
   ]
  },
  {
   "cell_type": "markdown",
   "metadata": {},
   "source": [
    "This provides some empirical evidence that height and weight are not correlated.\n"
   ]
  },
  {
   "cell_type": "markdown",
   "metadata": {},
   "source": [
    "We can even place a value to measure the related-ness of the two variables by considering a quantity known as the covariance. This is given by: $$ Cov(X,Y) = \\frac{1}{n} \\sum_{i=0}^{n}(X-\\mu_{x})(Y-\\mu_{y})$$ Where $\\mu_{x}$ and $\\mu_{y}$ are the true means of the populations of the $X$ and $Y$ random variables respectively."
   ]
  },
  {
   "cell_type": "code",
   "execution_count": 28,
   "metadata": {},
   "outputs": [
    {
     "data": {
      "text/plain": [
       "array([[4.11981616, 0.16166677],\n",
       "       [0.16166677, 4.59396254]])"
      ]
     },
     "execution_count": 28,
     "metadata": {},
     "output_type": "execute_result"
    }
   ],
   "source": [
    "np.cov(height,weight)"
   ]
  },
  {
   "cell_type": "markdown",
   "metadata": {},
   "source": [
    "The above is a matrix that tells us the covariance between the height and weight variables as well as their corresponding variances. This is known as a covariance matrix, $\\Sigma$ and it has the following form: $$ \\Sigma_{ij} = Cov(X_i,X_j)$$ Where $X_i$ and $X_j$ are the different variables in question.  "
   ]
  },
  {
   "cell_type": "markdown",
   "metadata": {},
   "source": [
    "The sign of the covariance determines how the variables are related. A positive covariance indicates that there is positive correlation and vice versa."
   ]
  },
  {
   "cell_type": "markdown",
   "metadata": {},
   "source": [
    "Sometimes, we can have a situation where the magnitude of a certain variable far outweighs the other. (Say, you are  trying to find out whether a planet moves at a certain angle from the Earth's horizon based on the planet's mass!!!). This means that when we calculate covariance we need to scale the variables in some way such that they can be compared in a sensible way. This leads to the idea of correlation, which is the covariance scaled by the product of the standard deviations:\n",
    "\n",
    "$$ Corr(X,Y) = \\frac{1}{n} \\frac{\\sum_{i=0}^{n}(X-\\mu_{x})(Y-\\mu_{y})}{\\sqrt{Var_x Var_y}}$$"
   ]
  },
  {
   "cell_type": "code",
   "execution_count": 29,
   "metadata": {},
   "outputs": [
    {
     "data": {
      "text/plain": [
       "array([[1.        , 0.03716106],\n",
       "       [0.03716106, 1.        ]])"
      ]
     },
     "execution_count": 29,
     "metadata": {},
     "output_type": "execute_result"
    }
   ],
   "source": [
    "np.corrcoef(height,weight)"
   ]
  },
  {
   "cell_type": "markdown",
   "metadata": {},
   "source": [
    "The values of the correlation coefficient will always be between 0 and 1. With 0 indicating no correlation and 1 indicating perfect correlation."
   ]
  },
  {
   "cell_type": "markdown",
   "metadata": {},
   "source": [
    "In the example we see above, we surmise that height and weight variables are not correlated from the plot; and the correlation coefficient supports this statement."
   ]
  },
  {
   "cell_type": "markdown",
   "metadata": {},
   "source": [
    "Let's now generate a bivariate data set where height and weight are now positively correlated:"
   ]
  },
  {
   "cell_type": "code",
   "execution_count": 33,
   "metadata": {},
   "outputs": [
    {
     "data": {
      "text/plain": [
       "<matplotlib.collections.PathCollection at 0x108f76f28>"
      ]
     },
     "execution_count": 33,
     "metadata": {},
     "output_type": "execute_result"
    },
    {
     "data": {
      "image/png": "[encoded data removed]",
      "text/plain": [
       "<Figure size 432x288 with 1 Axes>"
      ]
     },
     "metadata": {},
     "output_type": "display_data"
    }
   ],
   "source": [
    "data = np.random.multivariate_normal([155,65],[[5,3.5],[3.5,5]],200)\n",
    "\n",
    "height = data[:,0]\n",
    "weight = data[:,1]\n",
    "\n",
    "plt.scatter(height,weight)"
   ]
  },
  {
   "cell_type": "markdown",
   "metadata": {},
   "source": [
    "Looking at the plot above shows us the consequence of the positive correlation.\n",
    "\n",
    "We can then look at the covariance and correlation estimates:"
   ]
  },
  {
   "cell_type": "code",
   "execution_count": 34,
   "metadata": {},
   "outputs": [
    {
     "data": {
      "text/plain": [
       "array([[5.33301047, 3.96960962],\n",
       "       [3.96960962, 5.52349949]])"
      ]
     },
     "execution_count": 34,
     "metadata": {},
     "output_type": "execute_result"
    }
   ],
   "source": [
    "np.cov(height,weight)"
   ]
  },
  {
   "cell_type": "code",
   "execution_count": 35,
   "metadata": {},
   "outputs": [
    {
     "data": {
      "text/plain": [
       "array([[1.       , 0.7313991],\n",
       "       [0.7313991, 1.       ]])"
      ]
     },
     "execution_count": 35,
     "metadata": {},
     "output_type": "execute_result"
    }
   ],
   "source": [
    "np.corrcoef(height,weight)"
   ]
  },
  {
   "cell_type": "markdown",
   "metadata": {},
   "source": [
    "The correlation estimate is given at 0.731, which indicates a strong positive correlation. Note that $0.7\\times5 = 3.5$, which is the true value covariance of the population."
   ]
  }
 ],
 "metadata": {
  "kernelspec": {
   "display_name": "Python 3",
   "language": "python",
   "name": "python3"
  },
  "language_info": {
   "codemirror_mode": {
    "name": "ipython",
    "version": 3
   },
   "file_extension": ".py",
   "mimetype": "text/x-python",
   "name": "python",
   "nbconvert_exporter": "python",
   "pygments_lexer": "ipython3",
   "version": "3.6.5"
  }
 },
 "nbformat": 4,
 "nbformat_minor": 2
}
