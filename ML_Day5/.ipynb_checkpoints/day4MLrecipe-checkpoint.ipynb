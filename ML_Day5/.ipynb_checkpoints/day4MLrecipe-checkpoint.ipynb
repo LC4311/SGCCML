{
 "cells": [
  {
   "cell_type": "markdown",
   "metadata": {},
   "source": [
    "# Machine Learning Recipe\n",
    "\n",
    "1. **Importing**\n",
    "    - load the dataset using pandas. pandas can read many different file formats and even communicate with databases\n",
    "2. **Exploratory data analysis**\n",
    "    - visualise the data using\n",
    "        - ```plt.hist()```\n",
    "        - ```plt.scatter(c=, cmap=, s=)```\n",
    "            - ```plt.colorbar()``` <i style=\"color:green\"># adds a legend<i>\n",
    "        - ```plt.plot()```\n",
    "        - ```sns.boxplot()```\n",
    "        - ```sns.jointplot(kind=)```\n",
    "        - ```sns.pairplot(hue=)```\n",
    "    - interpreting the visual patterns\n",
    "        - look for correlated pairs in scatter plots. In general, we seek to predict ```Y``` using ```X```'s\n",
    "            1. if X appears to be correlated with Y, X might be a good feature to use to predict Y\n",
    "            2. correlation among the ```X```'s might suggest redundancy in trying to predict ```Y```\n",
    "        - using color and hue in scatter and pairplots to analyse categorical variables\n",
    "            1. if Y is categorial, any ```X```'s that separate the different ```Y``` categories into clean groups are good candidates to use for predicting ```Y```\n",
    "    - fit a **decision tree**\n",
    "        - features that appear in the first few layers of the tree are likely to be useful in predicting ```Y```\n",
    "3. **Transform and clean your data**\n",
    "    - deal with missing data or **```NaN```** values\n",
    "        1. you can drop the rows of data with NaN values but this is in general not recommended\n",
    "        2. fill in the missing values with sensible values\n",
    "            - if the feature is categorical some possibilities for filling in the data are\n",
    "                - use the the mean of the observations where there is data\n",
    "                - use regression to backfill the missing values\n",
    "            - if the feature is categorical, some possibilities are\n",
    "                - use the mode\n",
    "                - create a new category to represent the missing values\n",
    "    - apply **one-hot-encoding** to tranform categorical variables to binary\n",
    "    - use appropriate data transformations - some examples are\n",
    "        - presence of a certain string in a name\n",
    "        - length of a string\n",
    "        - reducing the number of categories for a categorical variable\n",
    "    - combine with data from other sources\n",
    "    - standardise/normalise your data where appropriate\n",
    "4. **Choose appropriate learning models**\n",
    "    - based this on your insights gleaned from exploring and transforming data. Are you trying to predict \n",
    "        1. a **categorical** feature (ie. use **classification**) or \n",
    "        2. a **continuous** feature (ie. use regression)\n",
    "5. **Model Selection**\n",
    "    1. **create training and test datasets**\n",
    "        - create a **train-test** split on the whole dataset (recommended 70%-30% or 80%-20%)\n",
    "    2. **Choose the best model within each model class**\n",
    "        - this is also known as **tuning** the model **parameters**. examples include\n",
    "            - finding the best ```alpha``` for ```Ridge```\n",
    "            - finding the best ```k``` for ```KNeighborsClassifier```\n",
    "        - run **n-fold cross validation** on the **train set** using **```GridSearchCV()```** to select the optimal **parameters** for each of the candidate model classes\n",
    "        - Within each model class, this will select the best model based on the **cross validated score** (use **```accuracy```** for classification; use **```neg_mean_squared_error```** for regression)\n",
    "    3. **Select the best overall model**\n",
    "        - Select the best model out of the cross-validated models from the previous step (say the best ```LinearRegression```, ```Ridge```, ```Lasso```, ```ElasticNet```, etc)\n",
    "        - the final model will have the lowest ***MSE/Classification Error*** on the **test set**\n"
   ]
  },
  {
   "cell_type": "code",
   "execution_count": null,
   "metadata": {},
   "outputs": [],
   "source": []
  }
 ],
 "metadata": {
  "kernelspec": {
   "display_name": "Python 3",
   "language": "python",
   "name": "python3"
  },
  "language_info": {
   "codemirror_mode": {
    "name": "ipython",
    "version": 3
   },
   "file_extension": ".py",
   "mimetype": "text/x-python",
   "name": "python",
   "nbconvert_exporter": "python",
   "pygments_lexer": "ipython3",
   "version": "3.6.5"
  }
 },
 "nbformat": 4,
 "nbformat_minor": 2
}
